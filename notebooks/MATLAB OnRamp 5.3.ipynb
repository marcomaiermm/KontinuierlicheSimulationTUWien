{
 "cells": [
  {
   "cell_type": "code",
   "execution_count": 1,
   "metadata": {},
   "outputs": [],
   "source": [
    "import numpy as np"
   ]
  },
  {
   "cell_type": "code",
   "execution_count": 3,
   "metadata": {},
   "outputs": [
    {
     "data": {
      "text/plain": [
       "array([[ 0.97909013,  0.64750553,  0.11178611,  0.4534409 ],\n",
       "       [ 0.05494392,  0.02830877,  0.78565417,  0.49294221],\n",
       "       [ 0.59264998,  0.03723322,  0.72146008,  0.12777225],\n",
       "       [ 0.66177633,  0.86675108,  0.13928995,  0.81232442],\n",
       "       [ 0.16997179,  0.74674252,  0.7431638 ,  0.68162605],\n",
       "       [ 0.94984873,  0.28265453,  0.07536441,  0.10795418],\n",
       "       [ 0.08172722,  0.23333121,  0.72161626,  0.1817966 ]])"
      ]
     },
     "execution_count": 3,
     "metadata": {},
     "output_type": "execute_result"
    }
   ],
   "source": [
    "data: np.array = np.random.rand(7,4)\n",
    "data"
   ]
  },
  {
   "cell_type": "code",
   "execution_count": 6,
   "metadata": {},
   "outputs": [
    {
     "data": {
      "text/plain": [
       "array([ 0.4534409 ,  0.49294221,  0.12777225,  0.81232442,  0.68162605,\n",
       "        0.10795418,  0.1817966 ])"
      ]
     },
     "execution_count": 6,
     "metadata": {},
     "output_type": "execute_result"
    }
   ],
   "source": [
    "# Task 1 Create a vector named v2 containing the last column of data.\n",
    "v2: np.array = data[:,-1]\n",
    "v2"
   ]
  },
  {
   "cell_type": "code",
   "execution_count": 9,
   "metadata": {},
   "outputs": [
    {
     "data": {
      "text/plain": [
       "0.5"
      ]
     },
     "execution_count": 9,
     "metadata": {},
     "output_type": "execute_result"
    }
   ],
   "source": [
    "# Task 2 Change the first element in v2 from NaN to 0.5.\n",
    "v2[0] = 0.5\n",
    "v2[0]"
   ]
  },
  {
   "cell_type": "code",
   "execution_count": 14,
   "metadata": {},
   "outputs": [
    {
     "data": {
      "text/plain": [
       "array([[ 0.97909013,  0.64750553,  0.11178611,  0.5       ],\n",
       "       [ 0.05494392,  0.02830877,  0.78565417,  0.49294221],\n",
       "       [ 0.59264998,  0.03723322,  0.72146008,  0.12777225],\n",
       "       [ 0.66177633,  0.86675108,  0.13928995,  0.81232442],\n",
       "       [ 0.16997179,  0.74674252,  0.7431638 ,  0.68162605],\n",
       "       [ 0.94984873,  0.28265453,  0.07536441,  0.10795418],\n",
       "       [ 0.08172722,  0.23333121,  0.72161626,  0.1817966 ]])"
      ]
     },
     "execution_count": 14,
     "metadata": {},
     "output_type": "execute_result"
    }
   ],
   "source": [
    "# Task 3 Change the value of the element in the first row and last column of data to 0.5.\n",
    "data[0,-1] = 0.5\n",
    "data"
   ]
  }
 ],
 "metadata": {
  "kernelspec": {
   "display_name": "Python 3",
   "language": "python",
   "name": "python3"
  },
  "language_info": {
   "codemirror_mode": {
    "name": "ipython",
    "version": 3
   },
   "file_extension": ".py",
   "mimetype": "text/x-python",
   "name": "python",
   "nbconvert_exporter": "python",
   "pygments_lexer": "ipython3",
   "version": "3.6.7"
  }
 },
 "nbformat": 4,
 "nbformat_minor": 2
}
