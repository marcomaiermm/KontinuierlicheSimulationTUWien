{
 "cells": [
  {
   "cell_type": "code",
   "execution_count": 32,
   "id": "infrared-lighter",
   "metadata": {},
   "outputs": [],
   "source": [
    "import random\n",
    "import math\n",
    "import numpy as np\n",
    "import pandas as pd\n",
    "from matplotlib import pyplot as plt"
   ]
  },
  {
   "cell_type": "code",
   "execution_count": 146,
   "id": "virtual-grave",
   "metadata": {},
   "outputs": [
    {
     "data": {
      "text/plain": [
       "(array(['Lithium', 'Argon', 'Potassium', 'Calcium', 'Scandium', 'Vanadium',\n",
       "        'Strontium'], dtype=object),\n",
       " array([0.53, 1.78, 0.86, 1.6, 3.0, 6.11, 2.54], dtype=object),\n",
       " 0)"
      ]
     },
     "execution_count": 146,
     "metadata": {},
     "output_type": "execute_result"
    }
   ],
   "source": [
    "# SETUP\n",
    "doPlot: int = random.choice([0,1])\n",
    "data: np.ndarray = pd.read_csv(\"data/matlab_onroad_11_2_element.csv\")\n",
    "element: np.ndarray = data.iloc[:,0].to_numpy()\n",
    "density: np.ndarray = data.to_numpy()[:,1]\n",
    "(element,density,doPlot)"
   ]
  },
  {
   "cell_type": "code",
   "execution_count": 147,
   "id": "specialized-respondent",
   "metadata": {},
   "outputs": [
    {
     "name": "stdout",
     "output_type": "stream",
     "text": [
      "The density of ['Lithium' 'Argon' 'Potassium' 'Calcium' 'Scandium' 'Vanadium' 'Strontium'] is [0.53 1.78 0.86 1.6 3.0 6.11 2.54]\n"
     ]
    }
   ],
   "source": [
    "# TASK 1 Modify the script so that the plotting code on lines 4-7 are executed only when doPlot is 1.\n",
    "# TASK 2 Modify the script so that when the if condition is not satisfied, the following line of code is executed:\n",
    "if doPlot:\n",
    "    plt.plot(density)\n",
    "    plt.title(\"Sample Densities\")\n",
    "    locs, labels = plt.xticks()\n",
    "    plt.xticks(range(len(density)),element)\n",
    "    plt.ylabel(\"Density (g/cm^3)\")\n",
    "else:\n",
    "    print(f\"The density of {element} is {density}\")"
   ]
  }
 ],
 "metadata": {
  "kernelspec": {
   "display_name": "Python 3",
   "language": "python",
   "name": "python3"
  },
  "language_info": {
   "codemirror_mode": {
    "name": "ipython",
    "version": 3
   },
   "file_extension": ".py",
   "mimetype": "text/x-python",
   "name": "python",
   "nbconvert_exporter": "python",
   "pygments_lexer": "ipython3",
   "version": "3.8.8"
  }
 },
 "nbformat": 4,
 "nbformat_minor": 5
}
