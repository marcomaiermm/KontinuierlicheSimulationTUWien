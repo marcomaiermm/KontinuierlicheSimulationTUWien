{
 "cells": [
  {
   "cell_type": "code",
   "execution_count": 1,
   "metadata": {},
   "outputs": [],
   "source": [
    "import numpy as np"
   ]
  },
  {
   "cell_type": "code",
   "execution_count": 7,
   "metadata": {},
   "outputs": [
    {
     "data": {
      "text/plain": [
       "array([ 0.17253516,  0.70285413,  0.98295764,  0.20966086,  0.59204517,\n",
       "        0.2114799 ,  0.42040048])"
      ]
     },
     "execution_count": 7,
     "metadata": {},
     "output_type": "execute_result"
    }
   ],
   "source": [
    "# Task Setup\n",
    "data: np.array = np.random.rand(7,4)\n",
    "density: np.array = data[:,1]\n",
    "v1: np.array = data[:,2]\n",
    "v2: np.array = data[:,3]"
   ]
  },
  {
   "cell_type": "code",
   "execution_count": 15,
   "metadata": {},
   "outputs": [
    {
     "data": {
      "text/plain": [
       "array([ 7.51601443,  7.20062015,  7.38158122,  7.88443719,  7.45926375,\n",
       "        7.31891827,  7.59242748])"
      ]
     },
     "execution_count": 15,
     "metadata": {},
     "output_type": "execute_result"
    }
   ],
   "source": [
    "# Task 1 Add 1 to each element of v1 and store the result in a variable named r.\n",
    "r: np.array = v1 + 1\n",
    "r"
   ]
  },
  {
   "cell_type": "code",
   "execution_count": 18,
   "metadata": {},
   "outputs": [
    {
     "data": {
      "text/plain": [
       "array([ 6.68854959,  6.90347428,  7.36453886,  7.09409805,  7.05130893,\n",
       "        6.53039818,  7.01282796])"
      ]
     },
     "execution_count": 18,
     "metadata": {},
     "output_type": "execute_result"
    }
   ],
   "source": [
    "# Task 2 Create a vector vs that is the sum of the vectors v1 and v2.\n",
    "vs: np.array = v1 + v2\n",
    "vs"
   ]
  },
  {
   "cell_type": "code",
   "execution_count": 20,
   "metadata": {},
   "outputs": [
    {
     "data": {
      "text/plain": [
       "array([ 3.3442748 ,  3.45173714,  3.68226943,  3.54704902,  3.52565446,\n",
       "        3.26519909,  3.50641398])"
      ]
     },
     "execution_count": 20,
     "metadata": {},
     "output_type": "execute_result"
    }
   ],
   "source": [
    "# Task 3 Create a variable va that contains the value vs divided by 2 (the average volume).\n",
    "va: np.array = vs / 2\n",
    "va"
   ]
  },
  {
   "cell_type": "code",
   "execution_count": 23,
   "metadata": {},
   "outputs": [
    {
     "data": {
      "text/plain": [
       "3.68226942909198"
      ]
     },
     "execution_count": 23,
     "metadata": {},
     "output_type": "execute_result"
    }
   ],
   "source": [
    "# Task 4 Create a variable vm containing the maximum of the va vector.\n",
    "vm: float = np.max(va)\n",
    "vm"
   ]
  },
  {
   "cell_type": "code",
   "execution_count": 25,
   "metadata": {},
   "outputs": [
    {
     "data": {
      "text/plain": [
       "array([ 3.,  3.,  4.,  4.,  4.,  3.,  4.])"
      ]
     },
     "execution_count": 25,
     "metadata": {},
     "output_type": "execute_result"
    }
   ],
   "source": [
    "# Task 5 Using the round function, create a variable named vr which contains the rounded average volumes, va.\n",
    "va: np.array = np.round(va)\n",
    "va"
   ]
  },
  {
   "cell_type": "code",
   "execution_count": 35,
   "metadata": {},
   "outputs": [
    {
     "data": {
      "text/plain": [
       "array([ 2.35693185,  2.52321772,  3.3638483 ,  2.57285494,  2.93590846,\n",
       "        0.2702422 ,  3.49150779])"
      ]
     },
     "execution_count": 35,
     "metadata": {},
     "output_type": "execute_result"
    }
   ],
   "source": [
    "# Task 5 Create a variable named mass containing the elementwise product of density and va.\n",
    "mass: np.array = np.multiply(density, va)\n",
    "mass\n",
    "# oder simpel mass = density * va"
   ]
  },
  {
   "cell_type": "code",
   "execution_count": null,
   "metadata": {},
   "outputs": [],
   "source": []
  }
 ],
 "metadata": {
  "kernelspec": {
   "display_name": "Python 3",
   "language": "python",
   "name": "python3"
  },
  "language_info": {
   "codemirror_mode": {
    "name": "ipython",
    "version": 3
   },
   "file_extension": ".py",
   "mimetype": "text/x-python",
   "name": "python",
   "nbconvert_exporter": "python",
   "pygments_lexer": "ipython3",
   "version": "3.6.7"
  }
 },
 "nbformat": 4,
 "nbformat_minor": 2
}
