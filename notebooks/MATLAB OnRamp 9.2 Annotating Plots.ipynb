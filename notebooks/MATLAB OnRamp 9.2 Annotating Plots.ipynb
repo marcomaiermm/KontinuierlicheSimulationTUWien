{
 "cells": [
  {
   "cell_type": "code",
   "execution_count": 1,
   "metadata": {},
   "outputs": [],
   "source": [
    "import numpy as np\n",
    "from matplotlib import pyplot as plt"
   ]
  },
  {
   "cell_type": "code",
   "execution_count": 2,
   "metadata": {},
   "outputs": [],
   "source": [
    "# Task Setup\n",
    "data: np.array = np.random.rand(7,4)\n",
    "sample: np.array = data[:,0]\n",
    "density: np.array = data[:,1]\n",
    "v1: np.array = data[:,2]\n",
    "v2: np.array = data[:,3]\n",
    "# Density Array und Sample Array sortieren für eine sinnvollere Plot Darstellung\n",
    "sample.sort()\n",
    "density.sort()\n",
    "mass1: np.array = density*v1\n",
    "mass2: np.array = density*v2"
   ]
  },
  {
   "cell_type": "code",
   "execution_count": 8,
   "metadata": {},
   "outputs": [
    {
     "data": {
      "text/plain": [
       "<matplotlib.legend.Legend at 0x7fc480f10ac8>"
      ]
     },
     "execution_count": 8,
     "metadata": {},
     "output_type": "execute_result"
    },
    {
     "data": {
      "image/png": "[encoded data removed]",
      "text/plain": [
       "<Figure size 432x288 with 1 Axes>"
      ]
     },
     "metadata": {
      "needs_background": "light"
     },
     "output_type": "display_data"
    }
   ],
   "source": [
    "# This code creates the plot from the last activity.\n",
    "plt.plot(sample,mass1,\"ks\")\n",
    "plt.plot(sample,mass2,\"r*\")\n",
    "\n",
    "# Task 1 Add the title \"Sample Mass\" to the existing plot.\n",
    "plt.title(\"Sample Mass\")\n",
    "\n",
    "# Task 2 Use the ylabel function to add the label \"Mass (g)\".\n",
    "plt.ylabel(\"Mass (g)\")\n",
    "\n",
    "# Task 3 Create a legend with the labels \"Exp A\" and \"Exp B\", in that order.\n",
    "plt.legend([\"Exp A\",\"Exp B\"])\n"
   ]
  },
  {
   "cell_type": "code",
   "execution_count": null,
   "metadata": {},
   "outputs": [],
   "source": []
  }
 ],
 "metadata": {
  "kernelspec": {
   "display_name": "Python 3",
   "language": "python",
   "name": "python3"
  },
  "language_info": {
   "codemirror_mode": {
    "name": "ipython",
    "version": 3
   },
   "file_extension": ".py",
   "mimetype": "text/x-python",
   "name": "python",
   "nbconvert_exporter": "python",
   "pygments_lexer": "ipython3",
   "version": "3.6.7"
  }
 },
 "nbformat": 4,
 "nbformat_minor": 2
}
