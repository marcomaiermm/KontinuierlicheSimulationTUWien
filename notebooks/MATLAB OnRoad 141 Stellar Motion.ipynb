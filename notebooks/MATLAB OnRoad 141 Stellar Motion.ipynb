{
 "cells": [
  {
   "cell_type": "code",
   "execution_count": 3,
   "id": "therapeutic-trout",
   "metadata": {},
   "outputs": [],
   "source": [
    "%config IPCompleter.greedy=True"
   ]
  },
  {
   "cell_type": "code",
   "execution_count": 8,
   "id": "appreciated-divorce",
   "metadata": {},
   "outputs": [],
   "source": [
    "import time\n",
    "import math\n",
    "import numpy as np\n",
    "import pandas as pd\n",
    "from matplotlib import pyplot as plt"
   ]
  },
  {
   "cell_type": "code",
   "execution_count": 9,
   "id": "invalid-constraint",
   "metadata": {},
   "outputs": [
    {
     "data": {
      "text/plain": [
       "(array(['Lithium', 'Argon', 'Potassium', 'Calcium', 'Scandium', 'Vanadium',\n",
       "        'Strontium'], dtype=object),\n",
       " array([0.53, 1.78, 0.86, 1.6, 3.0, 6.11, 2.54], dtype=object))"
      ]
     },
     "execution_count": 9,
     "metadata": {},
     "output_type": "execute_result"
    }
   ],
   "source": [
    "# SETUP\n",
    "data: np.ndarray = pd.read_csv(\"data/matlab_onroad_11_2_element.csv\")\n",
    "element: np.ndarray = data.iloc[:,0].to_numpy()\n",
    "density: np.ndarray = data.to_numpy()[:,1]\n",
    "(element,density,)"
   ]
  },
  {
   "cell_type": "code",
   "execution_count": 23,
   "id": "canadian-iceland",
   "metadata": {},
   "outputs": [
    {
     "data": {
      "image/png": "[encoded data removed]",
      "text/plain": [
       "<Figure size 432x288 with 1 Axes>"
      ]
     },
     "metadata": {
      "needs_background": "light"
     },
     "output_type": "display_data"
    }
   ],
   "source": [
    "# TASK 1 Wrap the code in the second section of the live script (lines 4-7) in a loop so that the code executes 7 times.\n",
    "# Name your loop counter idx. For the first execution of the loop, idx should have a value of 1, and it should increase by 1 each consecutive iteration.\n",
    "\n",
    "for idx in range(7):\n",
    "    plt.plot(idx,density[idx],\"*\")\n",
    "plt.show()"
   ]
  }
 ],
 "metadata": {
  "kernelspec": {
   "display_name": "Python 3",
   "language": "python",
   "name": "python3"
  },
  "language_info": {
   "codemirror_mode": {
    "name": "ipython",
    "version": 3
   },
   "file_extension": ".py",
   "mimetype": "text/x-python",
   "name": "python",
   "nbconvert_exporter": "python",
   "pygments_lexer": "ipython3",
   "version": "3.8.8"
  }
 },
 "nbformat": 4,
 "nbformat_minor": 5
}
