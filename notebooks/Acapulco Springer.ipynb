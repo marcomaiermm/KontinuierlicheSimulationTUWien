{
 "cells": [
  {
   "cell_type": "code",
   "execution_count": 1,
   "id": "c7358897",
   "metadata": {},
   "outputs": [],
   "source": [
    "from typing import Callable, Tuple\n",
    "import numpy as np\n",
    "import sympy\n",
    "from sympy import diff, Symbol, sin, cos, vector, exp, Eq, solve, simplify,lambdify\n",
    "from sympy.physics.vector import dynamicsymbols\n",
    "from scipy.integrate._ivp.ivp import solve_ivp\n",
    "from scipy.integrate import odeint\n",
    "from scipy.constants import g as grav\n",
    "import matplotlib.pyplot as plt"
   ]
  },
  {
   "cell_type": "code",
   "execution_count": 2,
   "id": "12b6289b-f54f-49eb-a683-1a52cace8562",
   "metadata": {},
   "outputs": [],
   "source": [
    "class Tmp(object):\n",
    "    def __init__(self):\n",
    "        super().__init__()\n",
    "\n",
    "class Settings(object):\n",
    "    def __init__(self):\n",
    "        super().__init__()\n",
    "        self.mg = 0\n",
    "        self.proportions = {\n",
    "            \"OK\":{\"l\":0.4575,\"m\":0.63},\n",
    "            \"UK\":{\"l\":0.5425,\"m\":0.37}\n",
    "        }\n",
    "        self.l = 2\n",
    "        self.m = 90\n",
    "        self.h = 60\n",
    "        self.b = 35e-2\n",
    "        self.c_w = 0.78\n",
    "        self.roh = 1.2\n",
    "        self.v_0 = 2\n",
    "        self.alpha0 = np.array([np.radians(0),np.radians(179)])\n",
    "        self.alpha0_p = np.array([-80*np.pi/180,-10*np.pi/180])\n",
    "        self.phi0 = 30\n",
    "        \n",
    "    def l_1(self):\n",
    "        return self.proportions[\"OK\"][\"l\"]*self.l\n",
    "    def l_2(self):\n",
    "        return self.proportions[\"UK\"][\"l\"]*self.l\n",
    "    def m_1(self):\n",
    "        return self.proportions[\"OK\"][\"m\"]*self.m\n",
    "    def m_2(self):\n",
    "        return self.proportions[\"UK\"][\"m\"]*self.m\n",
    "    def mass(self):\n",
    "        return self.m_1()+self.m_2()\n",
    "    def s_1(self):\n",
    "        return self.l_1()/2\n",
    "    def s_2(self):\n",
    "        return self.l_2()/2\n",
    "    def j_1(self):\n",
    "        return (1/12)*np.power(self.l_1(),2)*self.m_1()\n",
    "    def j_2(self):\n",
    "        return (1/12)*np.power(self.l_2(),2)*self.m_2()\n",
    "    def kappa(self,alpha) -> float:\n",
    "        \"\"\"Computed kappa\n",
    "        Returns:\n",
    "            float\n",
    "        \"\"\"\n",
    "        return (1 / 2) * self.roh * self.c_w * self.b * np.absolute(np.sin(np.radians(alpha)))*self.l_1()\n",
    "\n",
    "class DGL(object):\n",
    "    def __init__(self):\n",
    "        super().__init__()\n",
    "        self.alpha1 = None\n",
    "        self.alpha2 = None\n",
    "\n",
    "\n",
    "class Events(object):\n",
    "    \"\"\"Events Objekt. Hält alle event funktionen.\n",
    "    \"\"\"\n",
    "    def get_events(self) -> Tuple[Callable]:\n",
    "        \"\"\"Gibt alle Eventfunktionen zurück\n",
    "\n",
    "        Returns:\n",
    "            Tuple[Callable]: Event Funktionen als Tuple\n",
    "        \"\"\"\n",
    "        return tuple([x for x in vars(self).values() if callable(x)])\n",
    "        \n",
    "        \n",
    "temp = Tmp()\n",
    "settings = Settings()\n",
    "dgls = DGL()"
   ]
  },
  {
   "cell_type": "code",
   "execution_count": 3,
   "id": "196c3203",
   "metadata": {},
   "outputs": [],
   "source": [
    "alpha1 = dynamicsymbols('alpha1')\n",
    "alpha2 = dynamicsymbols('alpha2')"
   ]
  },
  {
   "cell_type": "code",
   "execution_count": 4,
   "id": "067d7ce4",
   "metadata": {},
   "outputs": [],
   "source": [
    "alpha1_p = diff(alpha1, Symbol('t'))\n",
    "alpha2_p = diff(alpha2, Symbol('t'))\n",
    "alpha1_pp = diff(alpha1_p, Symbol('t'))\n",
    "alpha2_pp = diff(alpha2_p, Symbol('t'))"
   ]
  },
  {
   "cell_type": "code",
   "execution_count": 5,
   "id": "0ec4ed21",
   "metadata": {},
   "outputs": [],
   "source": [
    "s1 = Symbol('s1')\n",
    "s2 = Symbol('s2')\n",
    "m1 = Symbol(\"m1\")\n",
    "m2 = Symbol(\"m2\")\n",
    "m = m1+m2\n",
    "g = Symbol(\"g\")\n",
    "j_1 = Symbol(\"j_1\")\n",
    "j_2 = Symbol(\"j_2\")\n",
    "M_G = Symbol(\"M_G\")\n",
    "\n",
    "a1_p = Symbol(\"a1_p\")\n",
    "a1_pp = Symbol(\"a1_pp\")\n",
    "a2_p = Symbol(\"a2_p\")\n",
    "a2_pp = Symbol(\"a2_pp\")\n",
    "\n",
    "l_m = Symbol(\"L_M\")"
   ]
  },
  {
   "cell_type": "code",
   "execution_count": 6,
   "id": "d57765d9",
   "metadata": {},
   "outputs": [],
   "source": [
    "# Ortsvektoren\n",
    "w_f = np.array([0,0, -alpha1_p])\n",
    "w_f_p = np.array([diff(w_f[i],Symbol('t')) for i in range(3)])\n",
    "r_m_1_g = np.array([0,s1,0])\n",
    "r_m_2_g = np.array([s2*sin(alpha2),s2*cos(alpha2),0])\n",
    "r_m_1_g_p = np.array([diff(r_m_1_g[i],Symbol('t')) for i in range(3)])\n",
    "r_m_2_g_p = np.array([diff(r_m_2_g[i],Symbol('t')) for i in range(3)])\n",
    "\n",
    "r_m_g = (m1*r_m_1_g+m2*r_m_2_g)/m\n",
    "r_m_g_p = np.array([diff(r_m_g[i],Symbol('t')) for i in range(3)])\n",
    "r_m_g_pp = np.array([diff(r_m_g_p[i],Symbol('t')) for i in range(3)])\n",
    "\n",
    "r_m_1_m = r_m_1_g-r_m_g\n",
    "r_m_2_m = r_m_2_g-r_m_g\n",
    "r_m_1_m_p = np.array([diff(r_m_1_m[i],Symbol('t')) for i in range(3)])\n",
    "r_m_2_m_p = np.array([diff(r_m_2_m[i],Symbol('t')) for i in range(3)])"
   ]
  },
  {
   "cell_type": "code",
   "execution_count": 7,
   "id": "a30cf7b5",
   "metadata": {},
   "outputs": [],
   "source": [
    "# v\n",
    "v_m_1_g = r_m_1_g_p + np.cross(w_f,r_m_1_g)\n",
    "v_m_2_g = r_m_2_g_p + np.cross(w_f,r_m_2_g)\n",
    "\n",
    "v_m_1_m = r_m_1_m_p + np.cross(w_f,r_m_1_m)\n",
    "v_m_2_m = r_m_2_m_p + np.cross(w_f,r_m_2_m)\n",
    "\n",
    "v_m_g = r_m_g_p + np.cross(w_f,r_m_g)"
   ]
  },
  {
   "cell_type": "code",
   "execution_count": 8,
   "id": "66d8e5f5",
   "metadata": {},
   "outputs": [],
   "source": [
    "# a\n",
    "a_m = np.array([sin(alpha1)*g,-cos(alpha1)*g,0])\n",
    "a_cor = 2 * np.cross(w_f,r_m_g_p)\n",
    "a_rel = r_m_g_pp\n",
    "a_f_1 = np.cross(w_f_p,r_m_g)+np.cross(w_f,np.cross(w_f,r_m_g))\n",
    "a_g = a_m - a_f_1 - a_rel - a_cor"
   ]
  },
  {
   "cell_type": "code",
   "execution_count": 9,
   "id": "262aca95",
   "metadata": {},
   "outputs": [
    {
     "data": {
      "text/latex": [
       "$\\displaystyle L_{M} = \\frac{- j_{1} m_{1} \\frac{d}{d t} \\alpha_{1}{\\left(t \\right)} - j_{1} m_{2} \\frac{d}{d t} \\alpha_{1}{\\left(t \\right)} - j_{2} m_{1} \\frac{d}{d t} \\alpha_{1}{\\left(t \\right)} - j_{2} m_{1} \\frac{d}{d t} \\alpha_{2}{\\left(t \\right)} - j_{2} m_{2} \\frac{d}{d t} \\alpha_{1}{\\left(t \\right)} - j_{2} m_{2} \\frac{d}{d t} \\alpha_{2}{\\left(t \\right)} - m_{1} m_{2} s_{1}^{2} \\frac{d}{d t} \\alpha_{1}{\\left(t \\right)} + 2 m_{1} m_{2} s_{1} s_{2} \\cos{\\left(\\alpha_{2}{\\left(t \\right)} \\right)} \\frac{d}{d t} \\alpha_{1}{\\left(t \\right)} + m_{1} m_{2} s_{1} s_{2} \\cos{\\left(\\alpha_{2}{\\left(t \\right)} \\right)} \\frac{d}{d t} \\alpha_{2}{\\left(t \\right)} - m_{1} m_{2} s_{2}^{2} \\frac{d}{d t} \\alpha_{1}{\\left(t \\right)} - m_{1} m_{2} s_{2}^{2} \\frac{d}{d t} \\alpha_{2}{\\left(t \\right)}}{m_{1} + m_{2}}$"
      ],
      "text/plain": [
       "Eq(L_M, (-j_1*m1*Derivative(alpha1(t), t) - j_1*m2*Derivative(alpha1(t), t) - j_2*m1*Derivative(alpha1(t), t) - j_2*m1*Derivative(alpha2(t), t) - j_2*m2*Derivative(alpha1(t), t) - j_2*m2*Derivative(alpha2(t), t) - m1*m2*s1**2*Derivative(alpha1(t), t) + 2*m1*m2*s1*s2*cos(alpha2(t))*Derivative(alpha1(t), t) + m1*m2*s1*s2*cos(alpha2(t))*Derivative(alpha2(t), t) - m1*m2*s2**2*Derivative(alpha1(t), t) - m1*m2*s2**2*Derivative(alpha2(t), t))/(m1 + m2))"
      ]
     },
     "execution_count": 9,
     "metadata": {},
     "output_type": "execute_result"
    }
   ],
   "source": [
    "# Drall\n",
    "L_1_m_1 = np.array([0,0,-j_1*alpha1_p])\n",
    "L_2_m_2 = np.array([0,0,-j_2*(alpha1_p+alpha2_p)])\n",
    "\n",
    "L_m = L_1_m_1 + np.cross(r_m_1_m,m1*v_m_1_m)+L_2_m_2 + np.cross(r_m_2_m,m2*v_m_2_m)\n",
    "L_1_g = L_1_m_1 + np.cross(r_m_1_g,m1*v_m_1_g)\n",
    "L_m_p = np.array([diff(L_m[i],Symbol('t')) for i in range(3)])\n",
    "L_1_g_p = np.array([diff(L_1_g[i],Symbol('t')) for i in range(3)])\n",
    "\n",
    "L_m = simplify(Eq(Symbol(\"L_M\"),L_m[2]))\n",
    "L_m"
   ]
  },
  {
   "cell_type": "code",
   "execution_count": 10,
   "id": "b401726d",
   "metadata": {},
   "outputs": [
    {
     "data": {
      "text/latex": [
       "$\\displaystyle \\frac{- j_{1} m_{1} \\frac{d^{2}}{d t^{2}} \\alpha_{1}{\\left(t \\right)} - j_{1} m_{2} \\frac{d^{2}}{d t^{2}} \\alpha_{1}{\\left(t \\right)} - j_{2} m_{1} \\frac{d^{2}}{d t^{2}} \\alpha_{1}{\\left(t \\right)} - j_{2} m_{1} \\frac{d^{2}}{d t^{2}} \\alpha_{2}{\\left(t \\right)} - j_{2} m_{2} \\frac{d^{2}}{d t^{2}} \\alpha_{1}{\\left(t \\right)} - j_{2} m_{2} \\frac{d^{2}}{d t^{2}} \\alpha_{2}{\\left(t \\right)} - m_{1} m_{2} s_{1}^{2} \\frac{d^{2}}{d t^{2}} \\alpha_{1}{\\left(t \\right)} - 2 m_{1} m_{2} s_{1} s_{2} \\sin{\\left(\\alpha_{2}{\\left(t \\right)} \\right)} \\frac{d}{d t} \\alpha_{1}{\\left(t \\right)} \\frac{d}{d t} \\alpha_{2}{\\left(t \\right)} - m_{1} m_{2} s_{1} s_{2} \\sin{\\left(\\alpha_{2}{\\left(t \\right)} \\right)} \\left(\\frac{d}{d t} \\alpha_{2}{\\left(t \\right)}\\right)^{2} + 2 m_{1} m_{2} s_{1} s_{2} \\cos{\\left(\\alpha_{2}{\\left(t \\right)} \\right)} \\frac{d^{2}}{d t^{2}} \\alpha_{1}{\\left(t \\right)} + m_{1} m_{2} s_{1} s_{2} \\cos{\\left(\\alpha_{2}{\\left(t \\right)} \\right)} \\frac{d^{2}}{d t^{2}} \\alpha_{2}{\\left(t \\right)} - m_{1} m_{2} s_{2}^{2} \\frac{d^{2}}{d t^{2}} \\alpha_{1}{\\left(t \\right)} - m_{1} m_{2} s_{2}^{2} \\frac{d^{2}}{d t^{2}} \\alpha_{2}{\\left(t \\right)}}{m_{1} + m_{2}} = 0$"
      ],
      "text/plain": [
       "Eq((-j_1*m1*Derivative(alpha1(t), (t, 2)) - j_1*m2*Derivative(alpha1(t), (t, 2)) - j_2*m1*Derivative(alpha1(t), (t, 2)) - j_2*m1*Derivative(alpha2(t), (t, 2)) - j_2*m2*Derivative(alpha1(t), (t, 2)) - j_2*m2*Derivative(alpha2(t), (t, 2)) - m1*m2*s1**2*Derivative(alpha1(t), (t, 2)) - 2*m1*m2*s1*s2*sin(alpha2(t))*Derivative(alpha1(t), t)*Derivative(alpha2(t), t) - m1*m2*s1*s2*sin(alpha2(t))*Derivative(alpha2(t), t)**2 + 2*m1*m2*s1*s2*cos(alpha2(t))*Derivative(alpha1(t), (t, 2)) + m1*m2*s1*s2*cos(alpha2(t))*Derivative(alpha2(t), (t, 2)) - m1*m2*s2**2*Derivative(alpha1(t), (t, 2)) - m1*m2*s2**2*Derivative(alpha2(t), (t, 2)))/(m1 + m2), 0)"
      ]
     },
     "execution_count": 10,
     "metadata": {},
     "output_type": "execute_result"
    }
   ],
   "source": [
    "# Drallsatz in M\n",
    "DS_M_L = np.array([0,0,0])\n",
    "DS_M_R = L_m_p\n",
    "DS_M = simplify(Eq(DS_M_L[2],DS_M_R[2])) #Eq(lhs, rhs)\n",
    "DS_M"
   ]
  },
  {
   "cell_type": "code",
   "execution_count": 11,
   "id": "0da02ecf",
   "metadata": {},
   "outputs": [
    {
     "data": {
      "text/latex": [
       "$\\displaystyle M_{G} - g m_{1} s_{1} \\sin{\\left(\\alpha_{1}{\\left(t \\right)} \\right)} = - \\frac{m_{1} s_{1} \\left(g \\left(m_{1} + m_{2}\\right) \\sin{\\left(\\alpha_{1}{\\left(t \\right)} \\right)} + m_{2} s_{2} \\sin{\\left(\\alpha_{2}{\\left(t \\right)} \\right)} \\left(\\frac{d}{d t} \\alpha_{1}{\\left(t \\right)}\\right)^{2} + 2 m_{2} s_{2} \\sin{\\left(\\alpha_{2}{\\left(t \\right)} \\right)} \\frac{d}{d t} \\alpha_{1}{\\left(t \\right)} \\frac{d}{d t} \\alpha_{2}{\\left(t \\right)} + m_{2} s_{2} \\sin{\\left(\\alpha_{2}{\\left(t \\right)} \\right)} \\left(\\frac{d}{d t} \\alpha_{2}{\\left(t \\right)}\\right)^{2} - m_{2} s_{2} \\cos{\\left(\\alpha_{2}{\\left(t \\right)} \\right)} \\frac{d^{2}}{d t^{2}} \\alpha_{2}{\\left(t \\right)} - \\left(m_{1} s_{1} + m_{2} s_{2} \\cos{\\left(\\alpha_{2}{\\left(t \\right)} \\right)}\\right) \\frac{d^{2}}{d t^{2}} \\alpha_{1}{\\left(t \\right)}\\right) + \\left(j_{1} + m_{1} s_{1}^{2}\\right) \\left(m_{1} + m_{2}\\right) \\frac{d^{2}}{d t^{2}} \\alpha_{1}{\\left(t \\right)}}{m_{1} + m_{2}}$"
      ],
      "text/plain": [
       "Eq(M_G - g*m1*s1*sin(alpha1(t)), -(m1*s1*(g*(m1 + m2)*sin(alpha1(t)) + m2*s2*sin(alpha2(t))*Derivative(alpha1(t), t)**2 + 2*m2*s2*sin(alpha2(t))*Derivative(alpha1(t), t)*Derivative(alpha2(t), t) + m2*s2*sin(alpha2(t))*Derivative(alpha2(t), t)**2 - m2*s2*cos(alpha2(t))*Derivative(alpha2(t), (t, 2)) - (m1*s1 + m2*s2*cos(alpha2(t)))*Derivative(alpha1(t), (t, 2))) + (j_1 + m1*s1**2)*(m1 + m2)*Derivative(alpha1(t), (t, 2)))/(m1 + m2))"
      ]
     },
     "execution_count": 11,
     "metadata": {},
     "output_type": "execute_result"
    }
   ],
   "source": [
    "# Drallsatz\n",
    "FG = np.array([sin(alpha1)*m1*g, -cos(alpha1)*m1*g, 0])\n",
    "DS_R = L_1_g_p + np.cross(w_f,L_1_g) + np.cross(r_m_1_g,m1*a_g)\n",
    "DS_L = np.array([0,0,M_G]) + np.cross(r_m_1_g,FG)\n",
    "DS = simplify(Eq(DS_L[2],DS_R[2])) #Eq(lhs, rhs)\n",
    "DS"
   ]
  },
  {
   "cell_type": "code",
   "execution_count": 12,
   "id": "dcf7870d",
   "metadata": {},
   "outputs": [],
   "source": [
    "# nach alpha1_pp und alpha2_pp und MG auflösen\n",
    "solution1 = solve(DS_L-DS_R,alpha1_pp)\n",
    "solution2 = solve(DS_M_L-DS_M_R,alpha2_pp)\n",
    "solution3 = solve(DS_L-DS_R,M_G)"
   ]
  },
  {
   "cell_type": "code",
   "execution_count": 13,
   "id": "3fdc7d9c",
   "metadata": {},
   "outputs": [],
   "source": [
    "# Lösungsdictionary Keys\n",
    "key_alpha1 = list(solution1.keys())[0]\n",
    "key_alpha2 = list(solution2.keys())[0]\n",
    "key_mg = list(solution3.keys())[0]"
   ]
  },
  {
   "cell_type": "code",
   "execution_count": 14,
   "id": "2295791e",
   "metadata": {},
   "outputs": [
    {
     "data": {
      "text/latex": [
       "$\\displaystyle \\frac{d^{2}}{d t^{2}} \\alpha_{1}{\\left(t \\right)} = \\frac{- M_{G} m_{1} - M_{G} m_{2} - m_{1} m_{2} s_{1} s_{2} \\sin{\\left(\\alpha_{2}{\\left(t \\right)} \\right)} \\left(\\frac{d}{d t} \\alpha_{1}{\\left(t \\right)}\\right)^{2} - 2 m_{1} m_{2} s_{1} s_{2} \\sin{\\left(\\alpha_{2}{\\left(t \\right)} \\right)} \\frac{d}{d t} \\alpha_{1}{\\left(t \\right)} \\frac{d}{d t} \\alpha_{2}{\\left(t \\right)} - m_{1} m_{2} s_{1} s_{2} \\sin{\\left(\\alpha_{2}{\\left(t \\right)} \\right)} \\left(\\frac{d}{d t} \\alpha_{2}{\\left(t \\right)}\\right)^{2} + m_{1} m_{2} s_{1} s_{2} \\cos{\\left(\\alpha_{2}{\\left(t \\right)} \\right)} \\frac{d^{2}}{d t^{2}} \\alpha_{2}{\\left(t \\right)}}{j_{1} m_{1} + j_{1} m_{2} + m_{1} m_{2} s_{1}^{2} - m_{1} m_{2} s_{1} s_{2} \\cos{\\left(\\alpha_{2}{\\left(t \\right)} \\right)}}$"
      ],
      "text/plain": [
       "Eq(Derivative(alpha1(t), (t, 2)), (-M_G*m1 - M_G*m2 - m1*m2*s1*s2*sin(alpha2(t))*Derivative(alpha1(t), t)**2 - 2*m1*m2*s1*s2*sin(alpha2(t))*Derivative(alpha1(t), t)*Derivative(alpha2(t), t) - m1*m2*s1*s2*sin(alpha2(t))*Derivative(alpha2(t), t)**2 + m1*m2*s1*s2*cos(alpha2(t))*Derivative(alpha2(t), (t, 2)))/(j_1*m1 + j_1*m2 + m1*m2*s1**2 - m1*m2*s1*s2*cos(alpha2(t))))"
      ]
     },
     "execution_count": 14,
     "metadata": {},
     "output_type": "execute_result"
    }
   ],
   "source": [
    "# alpha1_pp\n",
    "alpha1_pp_alpha2_pp = simplify(Eq(alpha1_pp,solution1[key_alpha1]))\n",
    "alpha1_pp_alpha2_pp"
   ]
  },
  {
   "cell_type": "code",
   "execution_count": 15,
   "id": "9f619cf3",
   "metadata": {},
   "outputs": [
    {
     "data": {
      "text/latex": [
       "$\\displaystyle \\frac{d^{2}}{d t^{2}} \\alpha_{2}{\\left(t \\right)} = \\frac{j_{1} m_{1} \\frac{d^{2}}{d t^{2}} \\alpha_{1}{\\left(t \\right)} + j_{1} m_{2} \\frac{d^{2}}{d t^{2}} \\alpha_{1}{\\left(t \\right)} + j_{2} m_{1} \\frac{d^{2}}{d t^{2}} \\alpha_{1}{\\left(t \\right)} + j_{2} m_{2} \\frac{d^{2}}{d t^{2}} \\alpha_{1}{\\left(t \\right)} + m_{1} m_{2} s_{1}^{2} \\frac{d^{2}}{d t^{2}} \\alpha_{1}{\\left(t \\right)} + 2 m_{1} m_{2} s_{1} s_{2} \\sin{\\left(\\alpha_{2}{\\left(t \\right)} \\right)} \\frac{d}{d t} \\alpha_{1}{\\left(t \\right)} \\frac{d}{d t} \\alpha_{2}{\\left(t \\right)} + m_{1} m_{2} s_{1} s_{2} \\sin{\\left(\\alpha_{2}{\\left(t \\right)} \\right)} \\left(\\frac{d}{d t} \\alpha_{2}{\\left(t \\right)}\\right)^{2} - 2 m_{1} m_{2} s_{1} s_{2} \\cos{\\left(\\alpha_{2}{\\left(t \\right)} \\right)} \\frac{d^{2}}{d t^{2}} \\alpha_{1}{\\left(t \\right)} + m_{1} m_{2} s_{2}^{2} \\frac{d^{2}}{d t^{2}} \\alpha_{1}{\\left(t \\right)}}{- j_{2} m_{1} - j_{2} m_{2} + m_{1} m_{2} s_{1} s_{2} \\cos{\\left(\\alpha_{2}{\\left(t \\right)} \\right)} - m_{1} m_{2} s_{2}^{2}}$"
      ],
      "text/plain": [
       "Eq(Derivative(alpha2(t), (t, 2)), (j_1*m1*Derivative(alpha1(t), (t, 2)) + j_1*m2*Derivative(alpha1(t), (t, 2)) + j_2*m1*Derivative(alpha1(t), (t, 2)) + j_2*m2*Derivative(alpha1(t), (t, 2)) + m1*m2*s1**2*Derivative(alpha1(t), (t, 2)) + 2*m1*m2*s1*s2*sin(alpha2(t))*Derivative(alpha1(t), t)*Derivative(alpha2(t), t) + m1*m2*s1*s2*sin(alpha2(t))*Derivative(alpha2(t), t)**2 - 2*m1*m2*s1*s2*cos(alpha2(t))*Derivative(alpha1(t), (t, 2)) + m1*m2*s2**2*Derivative(alpha1(t), (t, 2)))/(-j_2*m1 - j_2*m2 + m1*m2*s1*s2*cos(alpha2(t)) - m1*m2*s2**2))"
      ]
     },
     "execution_count": 15,
     "metadata": {},
     "output_type": "execute_result"
    }
   ],
   "source": [
    "# alpha2_pp\n",
    "alpha2_pp_alpha1_pp = simplify(Eq(alpha2_pp,solution2[key_alpha2]))\n",
    "alpha2_pp_alpha1_pp"
   ]
  },
  {
   "cell_type": "code",
   "execution_count": 16,
   "id": "5414a02b",
   "metadata": {},
   "outputs": [],
   "source": [
    "# solution for I in II for alpha1\n",
    "alpha1_pp_solve = solve([alpha1_pp_alpha2_pp,alpha2_pp_alpha1_pp],(alpha1_pp,alpha2_pp))\n",
    "key_alpha1_solve = list(alpha1_pp_solve.keys())[0]"
   ]
  },
  {
   "cell_type": "code",
   "execution_count": 17,
   "id": "c46d537b",
   "metadata": {},
   "outputs": [
    {
     "data": {
      "text/latex": [
       "$\\displaystyle \\frac{d^{2}}{d t^{2}} \\alpha_{1}{\\left(t \\right)} = \\frac{- M_{G} j_{2} m_{1}^{2} - 2 M_{G} j_{2} m_{1} m_{2} - M_{G} j_{2} m_{2}^{2} + M_{G} m_{1}^{2} m_{2} s_{1} s_{2} \\cos{\\left(\\alpha_{2}{\\left(t \\right)} \\right)} - M_{G} m_{1}^{2} m_{2} s_{2}^{2} + M_{G} m_{1} m_{2}^{2} s_{1} s_{2} \\cos{\\left(\\alpha_{2}{\\left(t \\right)} \\right)} - M_{G} m_{1} m_{2}^{2} s_{2}^{2} - j_{2} m_{1}^{2} m_{2} s_{1} s_{2} \\sin{\\left(\\alpha_{2}{\\left(t \\right)} \\right)} \\left(\\frac{d}{d t} \\alpha_{1}{\\left(t \\right)}\\right)^{2} - 2 j_{2} m_{1}^{2} m_{2} s_{1} s_{2} \\sin{\\left(\\alpha_{2}{\\left(t \\right)} \\right)} \\frac{d}{d t} \\alpha_{1}{\\left(t \\right)} \\frac{d}{d t} \\alpha_{2}{\\left(t \\right)} - j_{2} m_{1}^{2} m_{2} s_{1} s_{2} \\sin{\\left(\\alpha_{2}{\\left(t \\right)} \\right)} \\left(\\frac{d}{d t} \\alpha_{2}{\\left(t \\right)}\\right)^{2} - j_{2} m_{1} m_{2}^{2} s_{1} s_{2} \\sin{\\left(\\alpha_{2}{\\left(t \\right)} \\right)} \\left(\\frac{d}{d t} \\alpha_{1}{\\left(t \\right)}\\right)^{2} - 2 j_{2} m_{1} m_{2}^{2} s_{1} s_{2} \\sin{\\left(\\alpha_{2}{\\left(t \\right)} \\right)} \\frac{d}{d t} \\alpha_{1}{\\left(t \\right)} \\frac{d}{d t} \\alpha_{2}{\\left(t \\right)} - j_{2} m_{1} m_{2}^{2} s_{1} s_{2} \\sin{\\left(\\alpha_{2}{\\left(t \\right)} \\right)} \\left(\\frac{d}{d t} \\alpha_{2}{\\left(t \\right)}\\right)^{2} + \\frac{m_{1}^{2} m_{2}^{2} s_{1}^{2} s_{2}^{2} \\sin{\\left(2 \\alpha_{2}{\\left(t \\right)} \\right)} \\left(\\frac{d}{d t} \\alpha_{1}{\\left(t \\right)}\\right)^{2}}{2} - m_{1}^{2} m_{2}^{2} s_{1} s_{2}^{3} \\sin{\\left(\\alpha_{2}{\\left(t \\right)} \\right)} \\left(\\frac{d}{d t} \\alpha_{1}{\\left(t \\right)}\\right)^{2} - 2 m_{1}^{2} m_{2}^{2} s_{1} s_{2}^{3} \\sin{\\left(\\alpha_{2}{\\left(t \\right)} \\right)} \\frac{d}{d t} \\alpha_{1}{\\left(t \\right)} \\frac{d}{d t} \\alpha_{2}{\\left(t \\right)} - m_{1}^{2} m_{2}^{2} s_{1} s_{2}^{3} \\sin{\\left(\\alpha_{2}{\\left(t \\right)} \\right)} \\left(\\frac{d}{d t} \\alpha_{2}{\\left(t \\right)}\\right)^{2}}{j_{1} j_{2} m_{1}^{2} + 2 j_{1} j_{2} m_{1} m_{2} + j_{1} j_{2} m_{2}^{2} + j_{1} m_{1}^{2} m_{2} s_{2}^{2} + j_{1} m_{1} m_{2}^{2} s_{2}^{2} + j_{2} m_{1}^{2} m_{2} s_{1}^{2} + j_{2} m_{1} m_{2}^{2} s_{1}^{2} + m_{1}^{2} m_{2}^{2} s_{1}^{2} s_{2}^{2} \\sin^{2}{\\left(\\alpha_{2}{\\left(t \\right)} \\right)}}$"
      ],
      "text/plain": [
       "Eq(Derivative(alpha1(t), (t, 2)), (-M_G*j_2*m1**2 - 2*M_G*j_2*m1*m2 - M_G*j_2*m2**2 + M_G*m1**2*m2*s1*s2*cos(alpha2(t)) - M_G*m1**2*m2*s2**2 + M_G*m1*m2**2*s1*s2*cos(alpha2(t)) - M_G*m1*m2**2*s2**2 - j_2*m1**2*m2*s1*s2*sin(alpha2(t))*Derivative(alpha1(t), t)**2 - 2*j_2*m1**2*m2*s1*s2*sin(alpha2(t))*Derivative(alpha1(t), t)*Derivative(alpha2(t), t) - j_2*m1**2*m2*s1*s2*sin(alpha2(t))*Derivative(alpha2(t), t)**2 - j_2*m1*m2**2*s1*s2*sin(alpha2(t))*Derivative(alpha1(t), t)**2 - 2*j_2*m1*m2**2*s1*s2*sin(alpha2(t))*Derivative(alpha1(t), t)*Derivative(alpha2(t), t) - j_2*m1*m2**2*s1*s2*sin(alpha2(t))*Derivative(alpha2(t), t)**2 + m1**2*m2**2*s1**2*s2**2*sin(2*alpha2(t))*Derivative(alpha1(t), t)**2/2 - m1**2*m2**2*s1*s2**3*sin(alpha2(t))*Derivative(alpha1(t), t)**2 - 2*m1**2*m2**2*s1*s2**3*sin(alpha2(t))*Derivative(alpha1(t), t)*Derivative(alpha2(t), t) - m1**2*m2**2*s1*s2**3*sin(alpha2(t))*Derivative(alpha2(t), t)**2)/(j_1*j_2*m1**2 + 2*j_1*j_2*m1*m2 + j_1*j_2*m2**2 + j_1*m1**2*m2*s2**2 + j_1*m1*m2**2*s2**2 + j_2*m1**2*m2*s1**2 + j_2*m1*m2**2*s1**2 + m1**2*m2**2*s1**2*s2**2*sin(alpha2(t))**2))"
      ]
     },
     "execution_count": 17,
     "metadata": {},
     "output_type": "execute_result"
    }
   ],
   "source": [
    "# alpha1_pp\n",
    "alpha1_pp_sol = simplify(Eq(alpha1_pp,alpha1_pp_solve[key_alpha1_solve]))\n",
    "alpha1_pp_sol"
   ]
  },
  {
   "cell_type": "code",
   "execution_count": 18,
   "id": "523615e3",
   "metadata": {},
   "outputs": [
    {
     "data": {
      "text/latex": [
       "$\\displaystyle M_{G} = \\frac{- j_{1} m_{1} \\frac{d^{2}}{d t^{2}} \\alpha_{1}{\\left(t \\right)} - j_{1} m_{2} \\frac{d^{2}}{d t^{2}} \\alpha_{1}{\\left(t \\right)} - m_{1} m_{2} s_{1}^{2} \\frac{d^{2}}{d t^{2}} \\alpha_{1}{\\left(t \\right)} - m_{1} m_{2} s_{1} s_{2} \\sin{\\left(\\alpha_{2}{\\left(t \\right)} \\right)} \\left(\\frac{d}{d t} \\alpha_{1}{\\left(t \\right)}\\right)^{2} - 2 m_{1} m_{2} s_{1} s_{2} \\sin{\\left(\\alpha_{2}{\\left(t \\right)} \\right)} \\frac{d}{d t} \\alpha_{1}{\\left(t \\right)} \\frac{d}{d t} \\alpha_{2}{\\left(t \\right)} - m_{1} m_{2} s_{1} s_{2} \\sin{\\left(\\alpha_{2}{\\left(t \\right)} \\right)} \\left(\\frac{d}{d t} \\alpha_{2}{\\left(t \\right)}\\right)^{2} + m_{1} m_{2} s_{1} s_{2} \\cos{\\left(\\alpha_{2}{\\left(t \\right)} \\right)} \\frac{d^{2}}{d t^{2}} \\alpha_{1}{\\left(t \\right)} + m_{1} m_{2} s_{1} s_{2} \\cos{\\left(\\alpha_{2}{\\left(t \\right)} \\right)} \\frac{d^{2}}{d t^{2}} \\alpha_{2}{\\left(t \\right)}}{m_{1} + m_{2}}$"
      ],
      "text/plain": [
       "Eq(M_G, (-j_1*m1*Derivative(alpha1(t), (t, 2)) - j_1*m2*Derivative(alpha1(t), (t, 2)) - m1*m2*s1**2*Derivative(alpha1(t), (t, 2)) - m1*m2*s1*s2*sin(alpha2(t))*Derivative(alpha1(t), t)**2 - 2*m1*m2*s1*s2*sin(alpha2(t))*Derivative(alpha1(t), t)*Derivative(alpha2(t), t) - m1*m2*s1*s2*sin(alpha2(t))*Derivative(alpha2(t), t)**2 + m1*m2*s1*s2*cos(alpha2(t))*Derivative(alpha1(t), (t, 2)) + m1*m2*s1*s2*cos(alpha2(t))*Derivative(alpha2(t), (t, 2)))/(m1 + m2))"
      ]
     },
     "execution_count": 18,
     "metadata": {},
     "output_type": "execute_result"
    }
   ],
   "source": [
    "m_g_sol = simplify(Eq(M_G,solution3[key_mg]))\n",
    "m_g_sol"
   ]
  },
  {
   "cell_type": "code",
   "execution_count": 19,
   "id": "46da583f-e2e0-475c-9aa6-32f09078e8f0",
   "metadata": {},
   "outputs": [
    {
     "data": {
      "text/latex": [
       "$\\displaystyle 10.4137133625 a_{1 p} \\cos{\\left(\\alpha_{2}{\\left(t \\right)} \\right)} - 17.7879741375 a_{1 p} + 5.20685668125 a_{2 p} \\cos{\\left(\\alpha_{2}{\\left(t \\right)} \\right)} - 9.44105019375 a_{2 p}$"
      ],
      "text/plain": [
       "10.4137133625*a1_p*cos(alpha2(t)) - 17.7879741375*a1_p + 5.20685668125*a2_p*cos(alpha2(t)) - 9.44105019375*a2_p"
      ]
     },
     "execution_count": 19,
     "metadata": {},
     "output_type": "execute_result"
    }
   ],
   "source": [
    "# substituieren der ersten ableitungen von alpha\n",
    "didt_substitudes = [\n",
    "    (alpha1_p,a1_p),\n",
    "    (alpha2_p,a2_p),\n",
    "]\n",
    "\n",
    "# # substituieren der zweiten ableitungen von alpha\n",
    "d2idt2_substitudes = [\n",
    "    (diff(alpha1_p,Symbol(\"t\")),a1_pp),\n",
    "    (diff(alpha2_p,Symbol(\"t\")),a2_pp)   \n",
    "]\n",
    "\n",
    "# # konstanten substituieren\n",
    "substitudes = [\n",
    "        (m1, settings.m_1()),\n",
    "        (m2, settings.m_2()),\n",
    "        (s1, settings.s_1()),\n",
    "        (s2, settings.s_2()),\n",
    "        (j_1,settings.j_1()),\n",
    "        (j_2,settings.j_2()),\n",
    "]\n",
    "sub_alpha1_pp_sol = alpha1_pp_sol.rhs.subs(didt_substitudes+substitudes)\n",
    "sub_alpha2_pp_alpha1_pp = alpha2_pp_alpha1_pp.rhs.subs(d2idt2_substitudes+didt_substitudes+substitudes)\n",
    "sub_mg_sol = m_g_sol.rhs.subs(d2idt2_substitudes+didt_substitudes+substitudes)\n",
    "\n",
    "sub_lm_sol = L_m.rhs.subs(didt_substitudes+substitudes)\n",
    "sub_lm_sol_corr = sub_lm_sol.subs([(a2_p,0)])\n",
    "L_m_corr = simplify(Eq(l_m,sub_lm_sol_corr))\n",
    "solution_alpha1_l_m_corr = solve(L_m_corr.lhs-L_m_corr.rhs,a1_p)[0]\n",
    "sub_lm_sol"
   ]
  },
  {
   "cell_type": "code",
   "execution_count": 20,
   "id": "bb5c31c4-9e6d-47e2-9976-05e45a943304",
   "metadata": {},
   "outputs": [],
   "source": [
    "# Events\n",
    "def hit_ground(t: np.ndarray, u: np.ndarray) -> float:\n",
    "    \"\"\"Event um das Auftreffen zum Zeitpunkt t zu erfassen.\n",
    "\n",
    "    Args:\n",
    "        t (ndarray): Zeitvektor\n",
    "        u (ndarray): Vektor der Bewegungsgleichung\n",
    "\n",
    "    Returns:\n",
    "        float: Abstand r in y-Richtung\n",
    "    \"\"\"\n",
    "    r, _ = np.split(u, 2)\n",
    "    return r[1]\n",
    "\n",
    "def closed(t:np.ndarray, u:np.ndarray)->float:\n",
    "    a, _ = np.split(u, 2)\n",
    "    a_2 = a[1]\n",
    "    if a_2-np.radians(180)>np.radians(110):\n",
    "        return a_2-np.radians(180)\n",
    "    elif a_2<np.radians(20):\n",
    "        return a_2\n",
    "    return 100\n",
    "\n",
    "closed.terminal = True\n",
    "hit_ground.terminal = True"
   ]
  },
  {
   "cell_type": "code",
   "execution_count": 21,
   "id": "6bfa5cbd",
   "metadata": {},
   "outputs": [],
   "source": [
    "def drag_force(t, r, v):\n",
    "    alpha, _ = np.split(temp.alpha_sol(t), 2)\n",
    "    alpha1 = alpha[0]\n",
    "    return  settings.kappa(alpha1)* np.linalg.norm(v)"
   ]
  },
  {
   "cell_type": "code",
   "execution_count": 22,
   "id": "2f9f4c55",
   "metadata": {},
   "outputs": [],
   "source": [
    "# ivp dgl\n",
    "def dgl_alpha(t: np.ndarray, u: np.ndarray) -> np.ndarray:\n",
    "    alpha_, alpha_p_ = np.split(u, 2)\n",
    "\n",
    "    alpha1_ = alpha_[0]\n",
    "    alpha2_ = alpha_[1]\n",
    "    alpha1_p_ = alpha_p_[0]\n",
    "    alpha2_p_ = alpha_p_[1]\n",
    "    \n",
    "    if not t:\n",
    "        mg = settings.mg\n",
    "        temp.mg_sol = []\n",
    "    else:\n",
    "        mg = temp.mg\n",
    "\n",
    "    # numpy functions\n",
    "    f_a_1_pp = lambdify((a1_p,a2_p,alpha2, M_G), sub_alpha1_pp_sol, \"numpy\")\n",
    "    f_a_2_pp = lambdify((a1_pp,a1_p,a2_p,alpha2), sub_alpha2_pp_alpha1_pp, \"numpy\")\n",
    "    f_m_g_2_pp = lambdify((a1_pp,a2_pp,a1_p,a2_p,alpha2), sub_mg_sol, \"numpy\")\n",
    "    f_l_m = lambdify((a1_p,a2_p,alpha2),sub_lm_sol,\"numpy\")\n",
    "    f_alpha1_l_m_corr = lambdify((l_m,alpha2), solution_alpha1_l_m_corr, \"numpy\")\n",
    "    \n",
    "    a_1_pp = f_a_1_pp(alpha1_p_,alpha2_p_,alpha2_,mg)\n",
    "    a_2_pp = f_a_2_pp(a_1_pp,alpha1_p_,alpha2_p_,alpha2_)\n",
    "    m_g_grenz = f_m_g_2_pp(a_1_pp,0,alpha1_p_,0,alpha2_)\n",
    "\n",
    "    if alpha2_<=0:\n",
    "        if alpha2_p_ < 0:\n",
    "            l_m_ = f_l_m(alpha1_p_,alpha2_p_,alpha2_)\n",
    "            alpha1_p_ = f_alpha1_l_m_corr(l_m_,alpha2_)\n",
    "            alpha2_p_ = 0\n",
    "        if m_g_grenz<mg:\n",
    "            mg = f_m_g_2_pp(a_1_pp,a_2_pp,alpha1_p_,alpha2_p_,alpha2_)\n",
    "            \n",
    "        a_1_pp = f_a_1_pp(alpha1_p_,alpha2_p_,alpha2_,mg)\n",
    "        a_2_pp = f_a_2_pp(a_1_pp,alpha1_p_,alpha2_p_,alpha2_)\n",
    "        \n",
    "    if alpha2_>=np.radians(180):\n",
    "        if alpha2_p_ > 0:\n",
    "            l_m_ = f_l_m(alpha1_p_,alpha2_p_,alpha2_)\n",
    "            alpha1_p_ = f_alpha1_l_m_corr(l_m_,alpha2_)\n",
    "            alpha2_p_ = 0\n",
    "        if m_g_grenz>mg:\n",
    "            mg = f_m_g_2_pp(a_1_pp,a_2_pp,alpha1_p_,alpha2_p_,alpha2_)\n",
    "            \n",
    "        a_1_pp = f_a_1_pp(alpha1_p_,alpha2_p_,alpha2_,mg)\n",
    "        a_2_pp = f_a_2_pp(a_1_pp,alpha1_p_,alpha2_p_,alpha2_)\n",
    "\n",
    "    temp.mg = mg\n",
    "    temp.mg_sol.append(mg)\n",
    "    \n",
    "    return np.concatenate([np.array([alpha1_p_,a_1_pp]),np.array([alpha2_p_,a_2_pp])])"
   ]
  },
  {
   "cell_type": "code",
   "execution_count": 23,
   "id": "eee04388",
   "metadata": {},
   "outputs": [],
   "source": [
    "# Differentialgleichung für Schwerpunktsgeschwindigkeit v_M\n",
    "def dgl_sps(t, u):\n",
    "    r, v = np.split(u, 2)\n",
    "    drag_direction = np.array([-1,-1,0]) if v[1] else np.array([-1,1,0])\n",
    "    f_drag: np.ndarray = drag_force(t,r,v) * drag_direction\n",
    "    dvdt: np.ndarray = f_drag/settings.mass() + grav * np.array([0, -1, 0])\n",
    "    return np.concatenate([v, dvdt])"
   ]
  },
  {
   "cell_type": "code",
   "execution_count": 24,
   "id": "18ce124f",
   "metadata": {},
   "outputs": [],
   "source": [
    "# Anfangsbedingungen für Winkel alpha\n",
    "u0_alpha = np.concatenate([settings.alpha0,settings.alpha0_p])\n",
    "t0_alpha = [0,2]\n"
   ]
  },
  {
   "cell_type": "code",
   "execution_count": 25,
   "id": "97af7083-4f69-4657-b8f3-1fb1d1c832ef",
   "metadata": {},
   "outputs": [],
   "source": [
    "# ODE45 Solver für Winkel alpha\n",
    "res = solve_ivp(dgl_alpha,[0,2],u0_alpha,events=(closed), dense_output=True)\n",
    "t_s = res.t\n",
    "r_s = np.split(res.y, 2)\n",
    "t = np.linspace(0, np.max(t_s), 1000)\n",
    "alpha, alpha_p = np.split(res.sol(t), 2)"
   ]
  },
  {
   "cell_type": "code",
   "execution_count": 26,
   "id": "371277be-4e0f-43d3-8d01-15ad2304e873",
   "metadata": {},
   "outputs": [],
   "source": [
    "# Save solution in temp\n",
    "temp.alpha_sol = res.sol"
   ]
  },
  {
   "cell_type": "code",
   "execution_count": 27,
   "id": "f5162473",
   "metadata": {},
   "outputs": [],
   "source": [
    "# Anfangsbedingungen für Schwerpunktsgeschwindigkeit v\n",
    "r_0 = np.array([0,settings.h,0])\n",
    "phi_0 = np.array([\n",
    "    np.cos(np.radians(settings.phi0)),\n",
    "    np.sin(np.radians(settings.phi0)),\n",
    "    0\n",
    "])\n",
    "v_0 = settings.v_0 * phi_0\n",
    "u0_sps = np.concatenate((r_0,v_0))"
   ]
  },
  {
   "cell_type": "code",
   "execution_count": 28,
   "id": "242be6ef",
   "metadata": {},
   "outputs": [],
   "source": [
    "# ODE45 Solver für Schwerpunktsgeschwindigkeit\n",
    "res_r = solve_ivp(dgl_sps, [0, np.inf], u0_sps, events=[hit_ground], dense_output=True)\n",
    "t_s_sps = res_r.t\n",
    "r_s_sps = np.split(res_r.y, 2)\n",
    "t_sps = np.linspace(0, np.max(t_s_sps), 1000)\n",
    "r, v = np.split(res_r.sol(t_sps), 2)"
   ]
  },
  {
   "cell_type": "code",
   "execution_count": 29,
   "id": "87ef5a47-ab55-44a5-b68d-63bb29485d6f",
   "metadata": {},
   "outputs": [
    {
     "data": {
      "image/png": "[encoded data removed]",
      "text/plain": [
       "<Figure size 648x432 with 1 Axes>"
      ]
     },
     "metadata": {
      "needs_background": "light"
     },
     "output_type": "display_data"
    }
   ],
   "source": [
    "fig = plt.figure(figsize=(9, 6))\n",
    "fig.set_tight_layout(1)\n",
    "ax1 = fig.add_subplot(2, 1, 1)\n",
    "# ax1.tick_params(labelbottom=False)\n",
    "ax1.set_xlabel(\"x [m]\")\n",
    "ax1.set_ylabel(\"y [m]\")\n",
    "\n",
    "ratio = 0.4\n",
    "xleft, xright = ax1.get_xlim()\n",
    "ybottom, ytop = ax1.get_ylim()\n",
    "ax1.set_aspect(abs((xright-xleft)/(ybottom-ytop))*ratio)\n",
    "\n",
    "ax1.grid()\n",
    "ax1.plot(r[0], r[1], \"-b\")\n",
    "\n",
    "plt.show()"
   ]
  },
  {
   "cell_type": "code",
   "execution_count": 30,
   "id": "f517fffa-996b-4abb-b526-67e440f852b6",
   "metadata": {},
   "outputs": [
    {
     "data": {
      "text/plain": [
       "'Höchste stelle: 60.050980576441276 m und Sprungweite: 6.2323470564602275 m'"
      ]
     },
     "execution_count": 30,
     "metadata": {},
     "output_type": "execute_result"
    }
   ],
   "source": [
    "f\"Höchste stelle: {np.max(r[1])} m und Sprungweite: {np.max(r[0])} m\""
   ]
  },
  {
   "cell_type": "code",
   "execution_count": 31,
   "id": "0979128b-cce4-475f-940e-386c61db76b6",
   "metadata": {},
   "outputs": [
    {
     "data": {
      "text/plain": [
       "[<matplotlib.lines.Line2D at 0x7f2841672b50>]"
      ]
     },
     "execution_count": 31,
     "metadata": {},
     "output_type": "execute_result"
    },
    {
     "data": {
      "image/png": "[encoded data removed]",
      "text/plain": [
       "<Figure size 648x432 with 1 Axes>"
      ]
     },
     "metadata": {
      "needs_background": "light"
     },
     "output_type": "display_data"
    }
   ],
   "source": [
    "# deg_alpha2 =np.array([np.degrees(x) for x in alpha[1]])  \n",
    "fig = plt.figure(figsize=(9, 6))\n",
    "fig.set_tight_layout(1)\n",
    "ax1 = fig.add_subplot(2, 1, 1)\n",
    "# ax1.tick_params(labelbottom=False)\n",
    "ax1.set_xlabel(\"t\")\n",
    "ax1.set_ylabel(\"alpha2\")\n",
    "ax1.grid()\n",
    "ax1.plot(t, alpha[1], \"-b\")"
   ]
  },
  {
   "cell_type": "code",
   "execution_count": 32,
   "id": "4aad318f-2087-4eaf-894e-5e0185d5a9e4",
   "metadata": {},
   "outputs": [],
   "source": [
    "# Rotationsmatrix\n",
    "R = np.array([(cos(alpha2),sin(alpha2),0),(-sin(alpha2),cos(alpha2),0),(0,0,0)])\n",
    "r_m_g_t = R * r_m_g\n",
    "r_m_1_g_t = R * r_m_1_g\n",
    "r_m_2_g_t = R * r_m_2_g"
   ]
  },
  {
   "cell_type": "code",
   "execution_count": 33,
   "id": "8fcb195c-fbd7-46e6-bceb-8652ce57f1f3",
   "metadata": {},
   "outputs": [],
   "source": [
    "# Werte\n",
    "rmg = np.array([[r_m_g_t[i] for i in range(3)] for _ in alpha[1]])\n",
    "rm1g = np.array([[r_m_1_g_t[i] for i in range(3)] for _ in alpha[1]])\n",
    "rm2g = np.array([[r_m_2_g_t[i] for i in range(3)] for _ in alpha[1]])\n",
    "\n",
    "# # try:\n",
    "for i,a in enumerate(alpha[1]):\n",
    "    for j,r in enumerate(rmg[i]):\n",
    "        for k,_ in enumerate(r):\n",
    "            try:\n",
    "                rmg[i][j][k] = rmg[i][j][k].subs([(m2,settings.m_2()),(m1,settings.m_1()),(s2,settings.s_2()),(s1,settings.s_1()),(alpha2,a)])\n",
    "                rm1g[i][j][k] = rm1g[i][j][k].subs([(s1,settings.s_1()),(alpha2,a)])\n",
    "                rm2g[i][j][k] = rm2g[i][j][k].subs([(s2,settings.s_2()),(alpha2,a)])\n",
    "            except:\n",
    "                pass"
   ]
  }
 ],
 "metadata": {
  "kernelspec": {
   "display_name": "Python 3 (ipykernel)",
   "language": "python",
   "name": "python3"
  },
  "language_info": {
   "codemirror_mode": {
    "name": "ipython",
    "version": 3
   },
   "file_extension": ".py",
   "mimetype": "text/x-python",
   "name": "python",
   "nbconvert_exporter": "python",
   "pygments_lexer": "ipython3",
   "version": "3.9.7"
  },
  "toc-showcode": false,
  "toc-showmarkdowntxt": false
 },
 "nbformat": 4,
 "nbformat_minor": 5
}
