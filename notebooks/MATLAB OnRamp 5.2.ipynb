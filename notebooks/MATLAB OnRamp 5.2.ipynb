{
 "cells": [
  {
   "cell_type": "code",
   "execution_count": 20,
   "metadata": {},
   "outputs": [],
   "source": [
    "import numpy as np"
   ]
  },
  {
   "cell_type": "code",
   "execution_count": 28,
   "metadata": {},
   "outputs": [
    {
     "data": {
      "text/plain": [
       "array([[ 0.53274837,  0.58750664,  0.81983668,  0.58320594],\n",
       "       [ 0.72129036,  0.00874161,  0.78101154,  0.6251966 ],\n",
       "       [ 0.51256273,  0.71479953,  0.65829978,  0.92344003],\n",
       "       [ 0.79378189,  0.79859575,  0.97518288,  0.54465921],\n",
       "       [ 0.21099852,  0.88310365,  0.99333978,  0.63480664],\n",
       "       [ 0.67513638,  0.10184794,  0.65787118,  0.46955117],\n",
       "       [ 0.96747879,  0.96496558,  0.79513158,  0.41480654]])"
      ]
     },
     "execution_count": 28,
     "metadata": {},
     "output_type": "execute_result"
    }
   ],
   "source": [
    "data: np.array = np.random.rand(7,4)\n",
    "data"
   ]
  },
  {
   "cell_type": "code",
   "execution_count": 29,
   "metadata": {},
   "outputs": [
    {
     "data": {
      "text/plain": [
       "array([ 0.58750664,  0.00874161,  0.71479953,  0.79859575,  0.88310365,\n",
       "        0.10184794,  0.96496558])"
      ]
     },
     "execution_count": 29,
     "metadata": {},
     "output_type": "execute_result"
    }
   ],
   "source": [
    "# Task 1 Create a variable named density that contains the second column of the matrix named data.\n",
    "density: np.array = data[:,1]\n",
    "density"
   ]
  },
  {
   "cell_type": "code",
   "execution_count": 30,
   "metadata": {},
   "outputs": [
    {
     "data": {
      "text/plain": [
       "array([[ 0.81983668,  0.58320594],\n",
       "       [ 0.78101154,  0.6251966 ],\n",
       "       [ 0.65829978,  0.92344003],\n",
       "       [ 0.97518288,  0.54465921],\n",
       "       [ 0.99333978,  0.63480664],\n",
       "       [ 0.65787118,  0.46955117],\n",
       "       [ 0.79513158,  0.41480654]])"
      ]
     },
     "execution_count": 30,
     "metadata": {},
     "output_type": "execute_result"
    }
   ],
   "source": [
    "# Task 2\n",
    "# Create a variable volumes containing the last two columns of data.\n",
    "volumes: np.array = data[:,-2:]\n",
    "volumes"
   ]
  },
  {
   "cell_type": "code",
   "execution_count": 32,
   "metadata": {},
   "outputs": [
    {
     "data": {
      "text/plain": [
       "0.10184794297178124"
      ]
     },
     "execution_count": 32,
     "metadata": {},
     "output_type": "execute_result"
    }
   ],
   "source": [
    "# Task 3\n",
    "# Using a single index value, create a variable named p containing the 6th element in the vector density.\n",
    "p: float = density[5]\n",
    "p"
   ]
  },
  {
   "cell_type": "code",
   "execution_count": 36,
   "metadata": {},
   "outputs": [
    {
     "data": {
      "text/plain": [
       "array([ 0.00874161,  0.71479953,  0.79859575,  0.88310365])"
      ]
     },
     "execution_count": 36,
     "metadata": {},
     "output_type": "execute_result"
    }
   ],
   "source": [
    "# Task 4\n",
    "# Using a range of index values, create a vector named p containing the 2nd through 5th elements of density.\n",
    "# p ist schon vergeben, es ist also ein neuer Vektor gesucht. Es wäre ein bad pattern hier die float Variable neu \n",
    "# zu initialisieren\n",
    "# Numpy ist hier inklusiv und Matlab ist exklusiv. Das bedeutet, dass das Ende eines Arrays bei Numpy immer mit\n",
    "# dem letzte angegebenen Element ist. Daher 2,3,4,5 für [1:5]\n",
    "\n",
    "v: np.array = density[1:5]\n",
    "v"
   ]
  },
  {
   "cell_type": "code",
   "execution_count": null,
   "metadata": {},
   "outputs": [],
   "source": []
  }
 ],
 "metadata": {
  "kernelspec": {
   "display_name": "Python 3",
   "language": "python",
   "name": "python3"
  },
  "language_info": {
   "codemirror_mode": {
    "name": "ipython",
    "version": 3
   },
   "file_extension": ".py",
   "mimetype": "text/x-python",
   "name": "python",
   "nbconvert_exporter": "python",
   "pygments_lexer": "ipython3",
   "version": "3.6.7"
  }
 },
 "nbformat": 4,
 "nbformat_minor": 2
}
