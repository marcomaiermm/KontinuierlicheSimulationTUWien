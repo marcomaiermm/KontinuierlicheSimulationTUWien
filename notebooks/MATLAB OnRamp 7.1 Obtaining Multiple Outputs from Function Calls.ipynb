{
 "cells": [
  {
   "cell_type": "code",
   "execution_count": 1,
   "metadata": {},
   "outputs": [],
   "source": [
    "import numpy as np"
   ]
  },
  {
   "cell_type": "code",
   "execution_count": 3,
   "metadata": {},
   "outputs": [],
   "source": [
    "# Task Setup\n",
    "data: np.array = np.random.rand(7,4)\n",
    "v1: np.array = data[:,2]\n",
    "v2: np.array = data[:,3]"
   ]
  },
  {
   "cell_type": "code",
   "execution_count": 9,
   "metadata": {},
   "outputs": [
    {
     "data": {
      "text/plain": [
       "(7, 4)"
      ]
     },
     "execution_count": 9,
     "metadata": {},
     "output_type": "execute_result"
    }
   ],
   "source": [
    "# Task 1 Create a variable named dsize containing the size of the data variable.\n",
    "dsize: tuple = np.shape(data)\n",
    "dsize"
   ]
  },
  {
   "cell_type": "code",
   "execution_count": 11,
   "metadata": {},
   "outputs": [
    {
     "data": {
      "text/plain": [
       "(7, 4)"
      ]
     },
     "execution_count": 11,
     "metadata": {},
     "output_type": "execute_result"
    }
   ],
   "source": [
    "# Task 2 Create the variables dr and dc which respectively contain the number of rows and columns of the variable data.\n",
    "dr: int = dsize[0]\n",
    "dc: int = dsize[1]\n",
    "(dr, dc)"
   ]
  },
  {
   "cell_type": "code",
   "execution_count": 19,
   "metadata": {},
   "outputs": [
    {
     "data": {
      "text/plain": [
       "(1, 0.94096634077276586)"
      ]
     },
     "execution_count": 19,
     "metadata": {},
     "output_type": "execute_result"
    }
   ],
   "source": [
    "# Task 2 Create the variables vMax and ivMax \n",
    "# containing the maximum value of the v2 vector and the corresponding index value respectively.\n",
    "ivMax: int = np.argmax(v2)\n",
    "vMax: float = v2[ivMax]\n",
    "# One Liner\n",
    "# (ivMax, vMax) = (np.argmax(v2),v2[np.argmax(v2)])\n",
    "(ivMax, vMax)"
   ]
  },
  {
   "cell_type": "code",
   "execution_count": null,
   "metadata": {},
   "outputs": [],
   "source": []
  }
 ],
 "metadata": {
  "kernelspec": {
   "display_name": "Python 3",
   "language": "python",
   "name": "python3"
  },
  "language_info": {
   "codemirror_mode": {
    "name": "ipython",
    "version": 3
   },
   "file_extension": ".py",
   "mimetype": "text/x-python",
   "name": "python",
   "nbconvert_exporter": "python",
   "pygments_lexer": "ipython3",
   "version": "3.6.7"
  }
 },
 "nbformat": 4,
 "nbformat_minor": 2
}
